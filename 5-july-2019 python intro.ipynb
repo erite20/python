{
 "cells": [
  {
   "cell_type": "markdown",
   "metadata": {},
   "source": [
    "# MARKDOWN\n",
    "## MARKDOWN\n",
    "### MARKDOWN\n",
    "#### MARKDOWN"
   ]
  },
  {
   "cell_type": "markdown",
   "metadata": {},
   "source": [
    "* **Point1** (bold)\n",
    "* *Point2* (Ittallic)\n",
    "* ***Point3*** (Bold and Ittalic)"
   ]
  },
  {
   "cell_type": "markdown",
   "metadata": {},
   "source": [
    "* Normal Text\n",
    "    * sublist 1\n",
    "    * sublist 2"
   ]
  },
  {
   "cell_type": "markdown",
   "metadata": {},
   "source": [
    "> 1. Point1 \n",
    "> 2. Point2"
   ]
  },
  {
   "cell_type": "markdown",
   "metadata": {},
   "source": [
    "* []option1\n",
    "* []option2\n",
    "* []option3"
   ]
  },
  {
   "cell_type": "markdown",
   "metadata": {},
   "source": [
    "* ***adding sites to markdown***\n",
    "* Google sites -- [1]:https://sites.google.com/view/gitam-221810308022--july-2019\n",
    "* msn site -- [2]:http://www.msn.com\n",
    "\n",
    "* [1]option1 \n",
    "* google site -- [google][1]\n",
    "[1]: http://google.com"
   ]
  },
  {
   "cell_type": "markdown",
   "metadata": {},
   "source": [
    "### python basics\n",
    "* Python version 3.7\n",
    "- Fundamental programming \n",
    "- Object Oriented Programming\n",
    "- Scripting Programming"
   ]
  },
  {
   "cell_type": "code",
   "execution_count": 4,
   "metadata": {},
   "outputs": [
    {
     "name": "stdout",
     "output_type": "stream",
     "text": [
      "Hello,gitam\n",
      "hyderabad\n"
     ]
    }
   ],
   "source": [
    " print(\"Hello,gitam\")\n",
    " print(\"hyderabad\")   "
   ]
  },
  {
   "cell_type": "code",
   "execution_count": 7,
   "metadata": {},
   "outputs": [
    {
     "name": "stdout",
     "output_type": "stream",
     "text": [
      "Hello,gitam ||| hyderabad ||| python programming\n"
     ]
    }
   ],
   "source": [
    "print(\"Hello,gitam\",\"|||\",end=\" \")\n",
    "print(\"hyderabad\",end=\" ||| \")\n",
    "print(\"python programming\") "
   ]
  },
  {
   "cell_type": "markdown",
   "metadata": {},
   "source": [
    "## Assingment"
   ]
  },
  {
   "cell_type": "code",
   "execution_count": 9,
   "metadata": {},
   "outputs": [
    {
     "name": "stdout",
     "output_type": "stream",
     "text": [
      "100\n",
      "20 20 20\n",
      "111 222 333\n"
     ]
    }
   ],
   "source": [
    "n1=100\n",
    "a=b=c=20 # multi variable assingment of the same value\n",
    "a1,b1,c1 = 111,222,333 # multi variable assingment with different values\n",
    "print(n1)\n",
    "print(a,b,c)\n",
    "print(a1,b1,c1)"
   ]
  },
  {
   "cell_type": "markdown",
   "metadata": {},
   "source": [
    "### Data Types And Conversion\n",
    "* #### int\n",
    "* #### float\n",
    "* #### char\n",
    "* #### double"
   ]
  },
  {
   "cell_type": "code",
   "execution_count": 10,
   "metadata": {},
   "outputs": [
    {
     "name": "stdout",
     "output_type": "stream",
     "text": [
      "100 python p 10.2\n",
      "<class 'int'> <class 'str'> <class 'str'> <class 'float'>\n"
     ]
    }
   ],
   "source": [
    "a=100;\n",
    "s1=\"python\"\n",
    "s2='p'\n",
    "f1=10.2\n",
    "print(a,s1,s2,f1)\n",
    "print(type(a),type(s1),type(s2),type(f1))"
   ]
  },
  {
   "cell_type": "code",
   "execution_count": 9,
   "metadata": {},
   "outputs": [
    {
     "name": "stdout",
     "output_type": "stream",
     "text": [
      "enter a number 2\n",
      "<class 'str'>\n"
     ]
    },
    {
     "data": {
      "text/plain": [
       "'2'"
      ]
     },
     "execution_count": 9,
     "metadata": {},
     "output_type": "execute_result"
    }
   ],
   "source": [
    "c=(input(\"enter a number \"))\n",
    "print(type(c))\n",
    "c"
   ]
  },
  {
   "cell_type": "code",
   "execution_count": 4,
   "metadata": {},
   "outputs": [
    {
     "name": "stdout",
     "output_type": "stream",
     "text": [
      "<class 'int'>\n",
      "<class 'str'>\n",
      "<class 'float'>\n"
     ]
    }
   ],
   "source": [
    "i=100\n",
    "print(type(i))\n",
    "s1=str(i)\n",
    "print(type(s1))\n",
    "f1=float(i)\n",
    "print(type(f1))\n"
   ]
  },
  {
   "cell_type": "code",
   "execution_count": 6,
   "metadata": {},
   "outputs": [
    {
     "name": "stdout",
     "output_type": "stream",
     "text": [
      "<class 'str'>\n",
      "<class 'int'>\n"
     ]
    }
   ],
   "source": [
    "s1=\"100\"\n",
    "print(type(s1))\n",
    "i=int(s1)\n",
    "print(type(i))"
   ]
  },
  {
   "cell_type": "code",
   "execution_count": 8,
   "metadata": {},
   "outputs": [
    {
     "name": "stdout",
     "output_type": "stream",
     "text": [
      "4\n",
      "4\n"
     ]
    }
   ],
   "source": [
    "# A numbeer is given 1234\n",
    "# find the digit count\n",
    "a=1234\n",
    "s1=str(a)\n",
    "print(len(str(a)))\n",
    "print(len(str(a)))"
   ]
  },
  {
   "cell_type": "code",
   "execution_count": 11,
   "metadata": {},
   "outputs": [
    {
     "name": "stdout",
     "output_type": "stream",
     "text": [
      "enter your name zameer\n",
      "zameer\n",
      "<class 'str'>\n"
     ]
    }
   ],
   "source": [
    "# Reading a value\n",
    "# input (\"Message\") -- string\n",
    "s1=input(\"enter your name \")\n",
    "print(s1)\n",
    "print(type(s1))"
   ]
  },
  {
   "cell_type": "code",
   "execution_count": 12,
   "metadata": {},
   "outputs": [
    {
     "name": "stdout",
     "output_type": "stream",
     "text": [
      "enter a number 1234\n",
      "1234 <class 'int'>\n"
     ]
    }
   ],
   "source": [
    "# want a number as input\n",
    "n1=int(input(\"enter a number \"))\n",
    "print(n1,type(n1))"
   ]
  },
  {
   "cell_type": "markdown",
   "metadata": {},
   "source": [
    "## OPERATORS\n",
    "* opeator is the symbol used to perform the specific kind of operations\n",
    "### Arthematic Operators\n",
    "* +\n",
    "* -\n",
    "* *\n",
    "* /\n",
    "* %\n",
    "- **\n",
    "* //\n"
   ]
  },
  {
   "cell_type": "code",
   "execution_count": 13,
   "metadata": {},
   "outputs": [
    {
     "name": "stdout",
     "output_type": "stream",
     "text": [
      "1244\n",
      "1224\n",
      "12340\n",
      "123.4\n",
      "4\n",
      "8187505353567209228244052427776\n",
      "123\n"
     ]
    }
   ],
   "source": [
    "n1=1234\n",
    "print(n1+10)\n",
    "print(n1-10)\n",
    "print(n1*10)\n",
    "print(n1/10)\n",
    "print(n1%10)\n",
    "print(n1**10)\n",
    "print(n1//10)"
   ]
  },
  {
   "cell_type": "markdown",
   "metadata": {},
   "source": [
    "### Precedence of the Ath Operator\n",
    "* #### Parenthesis\n",
    "* #### Power\n",
    "* #### Multiplication\n",
    "* #### Addition"
   ]
  },
  {
   "cell_type": "code",
   "execution_count": 14,
   "metadata": {},
   "outputs": [
    {
     "name": "stdout",
     "output_type": "stream",
     "text": [
      "8.0\n"
     ]
    }
   ],
   "source": [
    "x=1+2**3/4+5\n",
    "print(x)"
   ]
  },
  {
   "cell_type": "code",
   "execution_count": 16,
   "metadata": {},
   "outputs": [
    {
     "name": "stdout",
     "output_type": "stream",
     "text": [
      "11.0\n"
     ]
    }
   ],
   "source": [
    "x=1+2**3/4*5\n",
    "print(x)"
   ]
  },
  {
   "cell_type": "markdown",
   "metadata": {},
   "source": [
    "### Relational operators \n",
    "* ==\n",
    "* !=\n",
    "* greater than (>)\n",
    "* Less than (<)\n",
    "* less than or equal to (<=)\n",
    "* Greater than or equal to (>=)\n"
   ]
  },
  {
   "cell_type": "code",
   "execution_count": 17,
   "metadata": {},
   "outputs": [
    {
     "name": "stdout",
     "output_type": "stream",
     "text": [
      "False\n"
     ]
    }
   ],
   "source": [
    "x=10\n",
    "a1=x>15\n",
    "print(a1)"
   ]
  },
  {
   "cell_type": "markdown",
   "metadata": {},
   "source": [
    "### Logical Operators\n",
    "#### used to combine more than single condition\n",
    "* and(&&)\n",
    "* or(||)\n",
    "* not()"
   ]
  },
  {
   "cell_type": "code",
   "execution_count": 18,
   "metadata": {},
   "outputs": [
    {
     "name": "stdout",
     "output_type": "stream",
     "text": [
      "True\n",
      "False\n"
     ]
    }
   ],
   "source": [
    "i=100\n",
    "a1=(i>15)and(i<800)\n",
    "a2=(i>15)and(i>800)\n",
    "print(a1)\n",
    "print(a2)"
   ]
  },
  {
   "cell_type": "markdown",
   "metadata": {},
   "source": [
    "### Conditional Flow Statement\n",
    "* Conditional Statement\n",
    "* Looping Statement\n",
    "\n",
    "#### if else statement\n",
    "**Syntax**\n",
    "\n",
    "if Boolean_condition: <br>\n",
    "statement <br>\n",
    "else: <br>\n",
    "statements <br>"
   ]
  },
  {
   "cell_type": "code",
   "execution_count": 19,
   "metadata": {},
   "outputs": [
    {
     "name": "stdout",
     "output_type": "stream",
     "text": [
      "Enter a number3\n",
      "Odd\n"
     ]
    }
   ],
   "source": [
    "# In check given number is even or odd\n",
    "n=int(input(\"Enter a number\"))\n",
    "if n%2==0:\n",
    "    print(\"Even\")\n",
    "else:\n",
    "    print(\"Odd\")"
   ]
  },
  {
   "cell_type": "code",
   "execution_count": 21,
   "metadata": {},
   "outputs": [
    {
     "name": "stdout",
     "output_type": "stream",
     "text": [
      "Enter a Number 15\n",
      "perfectly divisible\n"
     ]
    }
   ],
   "source": [
    "# Tocheck the given number is perfectly multiple of three and 5\n",
    "a=int(input(\"Enter a Number \"))\n",
    "if a%3==0 and a%5==0:\n",
    "    print(\"perfectly divisible\")\n",
    "else:\n",
    "    print(\"not divisible\")"
   ]
  },
  {
   "cell_type": "code",
   "execution_count": 24,
   "metadata": {},
   "outputs": [
    {
     "name": "stdout",
     "output_type": "stream",
     "text": [
      "Enter a Number-90\n",
      "negetive\n"
     ]
    }
   ],
   "source": [
    "#nTest given number is positive, Negetive or zZero\n",
    "n=int(input(\"Enter a Number\"))\n",
    "if n==0:\n",
    "    print(\"zero\")\n",
    "elif n>0:\n",
    "    print(\"positive\")\n",
    "else:\n",
    "    print(\"negetive\")"
   ]
  },
  {
   "cell_type": "code",
   "execution_count": 38,
   "metadata": {},
   "outputs": [
    {
     "name": "stdout",
     "output_type": "stream",
     "text": [
      "enter a year2000\n",
      "Leap year\n"
     ]
    }
   ],
   "source": [
    "# whether a leap year or not \n",
    "a=int(input(\"enter a year\"))\n",
    "if a%4 == 0 and a%400 == 0:\n",
    "    print(\"Leap year\")\n",
    "elif a%100 != 0:\n",
    "    print(\"not a leap year\")\n",
    "else:\n",
    "    print(\"not a leap  year\")\n"
   ]
  },
  {
   "cell_type": "code",
   "execution_count": 40,
   "metadata": {},
   "outputs": [
    {
     "name": "stdout",
     "output_type": "stream",
     "text": [
      "enter a number3\n",
      "tuesday\n"
     ]
    }
   ],
   "source": [
    "# week of the day \n",
    "n=int(input(\"enter a number\"))\n",
    "if n==1:\n",
    "    print(\"sunday\")\n",
    "elif n==2:\n",
    "    print(\"monday\")\n",
    "elif n==3:\n",
    "    print(\"tuesday\")\n",
    "elif n==4:\n",
    "    print(\"wednesday\")\n",
    "elif n==5:\n",
    "    print(\"thursday\")\n",
    "elif n==6:\n",
    "    print(\"Friday\")\n",
    "else:\n",
    "    print(\"Saturday\")"
   ]
  },
  {
   "cell_type": "code",
   "execution_count": 44,
   "metadata": {},
   "outputs": [
    {
     "name": "stdout",
     "output_type": "stream",
     "text": [
      "Enter a number1 1\n",
      "Enter a number2 2\n",
      "Enter a number3 3\n",
      "{3} is largest 3\n"
     ]
    }
   ],
   "source": [
    "# to find the largest number\n",
    "a=int(input(\"Enter a number1 \"))\n",
    "b=int(input(\"Enter a number2 \"))\n",
    "c=int(input(\"Enter a number3 \"))\n",
    "if a>b and a>c:\n",
    "    print(\"{1} is largest\",format(a))\n",
    "elif b>a and b>c:\n",
    "    print(\"{2} is largest\",format(b))\n",
    "else:\n",
    "    print(\"{3} is largest\",format(c))"
   ]
  },
  {
   "cell_type": "code",
   "execution_count": 53,
   "metadata": {},
   "outputs": [
    {
     "name": "stdout",
     "output_type": "stream",
     "text": [
      "enter a number5\n",
      "sum of n numbers 15\n"
     ]
    }
   ],
   "source": [
    "# find the sum of from 1 to n\n",
    "n=int(input(\"enter a number\"))\n",
    "sum=0\n",
    "i=0\n",
    "for i in range(0,n+1,1):\n",
    "    sum=sum+i\n",
    "print(\"sum of n numbers\",sum)"
   ]
  },
  {
   "cell_type": "code",
   "execution_count": 1,
   "metadata": {},
   "outputs": [
    {
     "name": "stdout",
     "output_type": "stream",
     "text": [
      "enter a positive odd number3\n",
      "the sum of odd numbers  4\n"
     ]
    }
   ],
   "source": [
    "# sum of all odd numbers from 1 to n\n",
    "n=int(input(\"enter a positive odd number\"))\n",
    "sum =0\n",
    "i=1\n",
    "for i in range(0,n+1,1):\n",
    "    if i%2==1:\n",
    "        sum=sum+i\n",
    "print(\"the sum of odd numbers \",sum)"
   ]
  },
  {
   "cell_type": "code",
   "execution_count": 2,
   "metadata": {},
   "outputs": [
    {
     "name": "stdout",
     "output_type": "stream",
     "text": [
      "Enter a positive number4\n",
      "enter a number= 1\n",
      "enter a number= 2\n",
      "enter a number= 3\n",
      "enter a number= 4\n",
      "the sumof given numbers= 10 the average of given numbers= 2.5\n"
     ]
    }
   ],
   "source": [
    "# sum and average of given series of numbers \n",
    "n=int(input(\"Enter a positive number\"))\n",
    "sum=0\n",
    "i=0\n",
    "for i in range(0,n,1):\n",
    "    a=int(input(\"enter a number= \"))\n",
    "    sum=sum+a\n",
    "average=sum/n\n",
    "print(\"the sumof given numbers=\",sum,\"the average of given numbers=\",average)"
   ]
  },
  {
   "cell_type": "code",
   "execution_count": 4,
   "metadata": {},
   "outputs": [
    {
     "name": "stdout",
     "output_type": "stream",
     "text": [
      "enter the value of a 1\n",
      "enter the value of b 4\n",
      "enter the value of c 4\n",
      "the roots are equal\n",
      "the roots are  -2.0 -2.0\n"
     ]
    }
   ],
   "source": [
    "# roots of quadratic equation\n",
    "a=int(input(\"enter the value of a \"))\n",
    "b=int(input(\"enter the value of b \"))\n",
    "c=int(input(\"enter the value of c \"))\n",
    "d=b*b-4*a*c\n",
    "if d>0:\n",
    "    print(\"the roots are real\")\n",
    "    r1=(-b)+sqrt(d)/2*a\n",
    "    r2=(-b)-sqrt(d)/2*a\n",
    "    print(\"the roots are r1=\",r1,\"r2=\",r2)\n",
    "elif d==0:\n",
    "    print(\"the roots are equal\")\n",
    "    r=(-b)/2*a\n",
    "    print(\"the roots are \",r,r)\n",
    "else:\n",
    "    print(\"the roots are imaginary\")"
   ]
  },
  {
   "cell_type": "code",
   "execution_count": 67,
   "metadata": {},
   "outputs": [
    {
     "name": "stdout",
     "output_type": "stream",
     "text": [
      "enter a value4\n",
      "1\n",
      "2\n",
      "4\n"
     ]
    }
   ],
   "source": [
    "#divisors of the number\n",
    "a=int(input(\"enter a value\"))\n",
    "i=1\n",
    "for i in range (1,n+1):\n",
    "    if a%i == 0:\n",
    "        print(i)"
   ]
  },
  {
   "cell_type": "code",
   "execution_count": 70,
   "metadata": {},
   "outputs": [
    {
     "name": "stdout",
     "output_type": "stream",
     "text": [
      "enter 1 side2\n",
      "enter 2 side2\n",
      "enter 3 side2\n",
      "valid\n"
     ]
    }
   ],
   "source": [
    "# check whether the triangle is valid or not\n",
    "a=int(input(\"enter 1 side \"))\n",
    "b=int(input(\"enter 2 side \"))\n",
    "c=int(input(\"enter 3 side \"))\n",
    "if a+b>c and b+c>a and c+a>b:\n",
    "    print(\"valid\")\n",
    "else:\n",
    "    print(\"not valid\")"
   ]
  },
  {
   "cell_type": "code",
   "execution_count": 9,
   "metadata": {},
   "outputs": [
    {
     "name": "stdout",
     "output_type": "stream",
     "text": [
      "enter the temp in cel90\n",
      "the temp in farenhirt is  194.0\n"
     ]
    }
   ],
   "source": [
    "#celcius to garenhiet\n",
    "c=int(input(\"enter the temp in cel\"))\n",
    "f=(c*9/5)+32\n",
    "print(\"the temp in farenhirt is \",f)"
   ]
  },
  {
   "cell_type": "code",
   "execution_count": null,
   "metadata": {},
   "outputs": [],
   "source": []
  }
 ],
 "metadata": {
  "kernelspec": {
   "display_name": "Python 3",
   "language": "python",
   "name": "python3"
  },
  "language_info": {
   "codemirror_mode": {
    "name": "ipython",
    "version": 3
   },
   "file_extension": ".py",
   "mimetype": "text/x-python",
   "name": "python",
   "nbconvert_exporter": "python",
   "pygments_lexer": "ipython3",
   "version": "3.7.3"
  }
 },
 "nbformat": 4,
 "nbformat_minor": 2
}
