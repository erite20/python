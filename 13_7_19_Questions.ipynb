{
  "nbformat": 4,
  "nbformat_minor": 0,
  "metadata": {
    "colab": {
      "name": "13/7/19 Questions.ipynb",
      "version": "0.3.2",
      "provenance": [],
      "include_colab_link": true
    },
    "kernelspec": {
      "name": "python3",
      "display_name": "Python 3"
    }
  },
  "cells": [
    {
      "cell_type": "markdown",
      "metadata": {
        "id": "view-in-github",
        "colab_type": "text"
      },
      "source": [
        "<a href=\"https://colab.research.google.com/github/ShivaKumar8037/Gitam-Python/blob/master/13_7_19_Questions.ipynb\" target=\"_parent\"><img src=\"https://colab.research.google.com/assets/colab-badge.svg\" alt=\"Open In Colab\"/></a>"
      ]
    },
    {
      "cell_type": "markdown",
      "metadata": {
        "id": "Gmehk1fBZ_cq",
        "colab_type": "text"
      },
      "source": [
        "###3. Write a python programming to print the large digit from given number\n",
        "\n",
        "  Example:-\n",
        "\n",
        " Test cases:- Input:- 195263 Output:- 9\n",
        "\n",
        " Test cases:- Input:- 36372  Output:- 7"
      ]
    },
    {
      "cell_type": "code",
      "metadata": {
        "id": "R3NSUi0SKO_2",
        "colab_type": "code",
        "colab": {
          "base_uri": "https://localhost:8080/",
          "height": 52
        },
        "outputId": "21e3ce76-f4b6-4963-866a-137cbe214273"
      },
      "source": [
        "# Read a number -- 19528\n",
        "# Print the large digit print the  number\n",
        "def printLarge(n):\n",
        "    # Program to achieve the given task\n",
        "    large = 0\n",
        "    while n > 0:\n",
        "        r = n % 10\n",
        "        if r > large:\n",
        "            large = r\n",
        "        n //= 10\n",
        "    print(large)\n",
        "printLarge(195263)\n",
        "printLarge(36372)"
      ],
      "execution_count": 2,
      "outputs": [
        {
          "output_type": "stream",
          "text": [
            "9\n",
            "7\n"
          ],
          "name": "stdout"
        }
      ]
    },
    {
      "cell_type": "markdown",
      "metadata": {
        "id": "1bZR5rz6c4da",
        "colab_type": "text"
      },
      "source": [
        "###4. Write a python programming to print the Palindrome count between two limits\n",
        "\n",
        " Example:-\n",
        "\n",
        " Test cases:- Input:- 1 10   Output:- 9\n",
        "\n",
        " Test cases:- Input:- 11 100 Output:- 9 "
      ]
    },
    {
      "cell_type": "code",
      "metadata": {
        "id": "mYqyr93JaRSC",
        "colab_type": "code",
        "colab": {
          "base_uri": "https://localhost:8080/",
          "height": 52
        },
        "outputId": "3872a22f-ff88-4b97-af99-6bd6a6c600c8"
      },
      "source": [
        "\n",
        "def count(a,b) :\n",
        "  cnt = 0\n",
        "  for i in range(a,b+1) :\n",
        "    x = i\n",
        "    rev = 0\n",
        "    while i!=0 :\n",
        "      r = i % 10\n",
        "      rev = rev * 10 + r\n",
        "      i = i // 10\n",
        "    if rev == x :\n",
        "      cnt = cnt + 1\n",
        "  return cnt\n",
        "\n",
        "C=count(1,10)\n",
        "print(\"Count = \",C)\n",
        "C=count(11,100)\n",
        "print(\"Count = \",C)\n"
      ],
      "execution_count": 14,
      "outputs": [
        {
          "output_type": "stream",
          "text": [
            "Count =  9\n",
            "Count =  9\n"
          ],
          "name": "stdout"
        }
      ]
    },
    {
      "cell_type": "code",
      "metadata": {
        "id": "DS6xvbamb59i",
        "colab_type": "code",
        "colab": {}
      },
      "source": [
        ""
      ],
      "execution_count": 0,
      "outputs": []
    }
  ]
}