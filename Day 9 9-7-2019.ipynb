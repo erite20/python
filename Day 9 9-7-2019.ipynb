{
 "cells": [
  {
   "cell_type": "markdown",
   "metadata": {},
   "source": [
    "### Day objectives\n",
    "- Python data structures\n",
    "    * Lists\n",
    "    * Tuples\n",
    "    * Dictionaries\n",
    "- Basic Program sets on Data Structures\n",
    "- Advanced problem set\n",
    "   "
   ]
  },
  {
   "cell_type": "markdown",
   "metadata": {},
   "source": [
    "**Data Stuctures**\n",
    "- To store,Search and sort the data"
   ]
  },
  {
   "cell_type": "markdown",
   "metadata": {},
   "source": [
    "## Python Data Structure\n",
    "### Lists\n",
    "- It's one of the common data structures supports by python, the list items are\n",
    "    seperated by comma operator and enclosed in square brackets\n",
    "    - Example:\n",
    "        - List1=[1,6,3,18]\n",
    "        - List2=[\"Gitam\",1,5,7,\"Hyderabad\"]\n",
    "        "
   ]
  },
  {
   "cell_type": "code",
   "execution_count": 10,
   "metadata": {},
   "outputs": [
    {
     "name": "stdout",
     "output_type": "stream",
     "text": [
      "[1, 8, 10, 9, 3]\n",
      "1\n",
      "3\n",
      "9\n",
      "[8, 10, 9, 3]\n",
      "[8, 10, 9]\n"
     ]
    }
   ],
   "source": [
    "lst=[1,8,10,9,3]\n",
    "print(lst)# Access the entire list\n",
    "print(lst[0])# Access the fist element of list\n",
    "print(lst[-1])#Access last itemof the \n",
    "print(lst[-2])#Access the last second of the list\n",
    "print(lst[1:])#Acess the list formagiven limit\n",
    "print(lst[1:4])#Acess the list within given limits"
   ]
  },
  {
   "cell_type": "code",
   "execution_count": 14,
   "metadata": {},
   "outputs": [
    {
     "name": "stdout",
     "output_type": "stream",
     "text": [
      "['Gitam', 'Python', 1989, 2000]\n",
      "['Gitam', 'Python', 2019, 2000]\n"
     ]
    }
   ],
   "source": [
    "li=[\"Gitam\",\"Python\",1989,2000]\n",
    "print(li)\n",
    "li[2] = 2019\n",
    "print(li)"
   ]
  },
  {
   "cell_type": "code",
   "execution_count": 17,
   "metadata": {},
   "outputs": [
    {
     "name": "stdout",
     "output_type": "stream",
     "text": [
      "['Gitam', 'Python', 2000]\n",
      "['Gitam', 'Python']\n",
      "<class 'list'>\n"
     ]
    }
   ],
   "source": [
    "# Delete the specific item in the list\n",
    "print(li)\n",
    "del li[2]\n",
    "print(li)"
   ]
  },
  {
   "cell_type": "code",
   "execution_count": 23,
   "metadata": {},
   "outputs": [
    {
     "name": "stdout",
     "output_type": "stream",
     "text": [
      "6\n",
      "[1, 6, 9, 4, 18, 2, 1, 6, 9, 4, 18, 2]\n",
      "True\n",
      "False\n",
      "1 6 9 4 18 2 "
     ]
    }
   ],
   "source": [
    "# Basic list Operations\n",
    "lst1=[1,6,9,4,18,2]\n",
    "print(len(lst1))\n",
    "print(lst1 *2) #Repeatation\n",
    "print(9 in lst1)\n",
    "print(15 in lst1)\n",
    "for x in range(len(lst1)): # Accesing the list using iteration\n",
    "    print(lst1[x],end=' ')"
   ]
  },
  {
   "cell_type": "code",
   "execution_count": 33,
   "metadata": {},
   "outputs": [
    {
     "name": "stdout",
     "output_type": "stream",
     "text": [
      "1\n",
      "18\n",
      "40\n",
      "6.666666666666667\n",
      "4.0\n",
      "[1, 9, 18]\n"
     ]
    }
   ],
   "source": [
    "#function of the list\n",
    "print(min(lst1))#smallest in the list\n",
    "print(max(lst1))#largest in the list\n",
    "print(sum(lst1))#sum of the all elements in the list\n",
    "print(sum(lst1)/len(lst1))#Average of the list\n",
    "print(sum(lst1[1::2])/len(lst1[1::2]))# Average of allalternative elements\n",
    "print(lst1[0::2])#printing alternate numbers in the list"
   ]
  },
  {
   "cell_type": "code",
   "execution_count": 44,
   "metadata": {},
   "outputs": [
    {
     "data": {
      "text/plain": [
       "[1,\n",
       " 2,\n",
       " 4,\n",
       " 6,\n",
       " 9,\n",
       " 18,\n",
       " 23,\n",
       " 23,\n",
       " 24,\n",
       " 24,\n",
       " 24,\n",
       " 45,\n",
       " 45,\n",
       " 56,\n",
       " 56,\n",
       " 56,\n",
       " 56,\n",
       " 56,\n",
       " 56,\n",
       " 56,\n",
       " 56,\n",
       " 56,\n",
       " 56,\n",
       " 123,\n",
       " 23,\n",
       " 45]"
      ]
     },
     "execution_count": 44,
     "metadata": {},
     "output_type": "execute_result"
    }
   ],
   "source": [
    "lst1\n",
    "lst1.append(24) # Adding a new element at the end of the list\n",
    "lst1\n",
    "lst1.insert(2,56) # Adding an element at perticular index\n",
    "lst1\n",
    "lst1.count(18) # return the value how many times the object is repeated\n",
    "lst1.index(56) \n",
    "lst1.sort() # it sorts the list in accending order\n",
    "lst1\n",
    "lst1.pop()# removes the last element of the list\n",
    "lst1\n",
    "lst.pop(1)# Removes the last element from a particular index\n",
    "lst2=[123,23,45]\n",
    "lst1.extend(lst2)#merge list1 in list 2\n",
    "lst1"
   ]
  },
  {
   "cell_type": "code",
   "execution_count": 61,
   "metadata": {},
   "outputs": [
    {
     "name": "stdout",
     "output_type": "stream",
     "text": [
      "[3, 2, 9]\n"
     ]
    }
   ],
   "source": [
    "li=[1,9,8,2,6,3]\n",
    "print(li[-1:0:-2])"
   ]
  },
  {
   "cell_type": "code",
   "execution_count": 6,
   "metadata": {},
   "outputs": [
    {
     "name": "stdout",
     "output_type": "stream",
     "text": [
      "Enter which least you want1\n"
     ]
    },
    {
     "data": {
      "text/plain": [
       "1"
      ]
     },
     "execution_count": 6,
     "metadata": {},
     "output_type": "execute_result"
    }
   ],
   "source": [
    "#Function to find second largest element\n",
    "def secondlarge(li):\n",
    "    li.sort()\n",
    "    return(li[-2])\n",
    "def  genericleast(li,n):\n",
    "    li.sort()\n",
    "    return li[n-1]\n",
    "li=[1,9,20,6,5,19]\n",
    "secondlarge(li)\n",
    "a=int(input(\"Enter which least you want\"))\n",
    "genericleast(li,a)"
   ]
  },
  {
   "cell_type": "code",
   "execution_count": null,
   "metadata": {},
   "outputs": [
    {
     "name": "stdout",
     "output_type": "stream",
     "text": [
      "Enter the lower limit1339\n"
     ]
    }
   ],
   "source": [
    "x=int(input(\"Enter the lower limit\"))\n",
    "sum=0\n",
    "while(x!=0):\n",
    "    r=x%10\n",
    "    if(r%2==0):\n",
    "        sum=sum+r\n",
    "    x=x+1\n",
    "print(sum)"
   ]
  },
  {
   "cell_type": "code",
   "execution_count": 1,
   "metadata": {},
   "outputs": [
    {
     "ename": "NameError",
     "evalue": "name 'lst1' is not defined",
     "output_type": "error",
     "traceback": [
      "\u001b[1;31m---------------------------------------------------------------------------\u001b[0m",
      "\u001b[1;31mNameError\u001b[0m                                 Traceback (most recent call last)",
      "\u001b[1;32m<ipython-input-1-e24d8cea88ea>\u001b[0m in \u001b[0;36m<module>\u001b[1;34m\u001b[0m\n\u001b[0;32m      1\u001b[0m \u001b[1;31m#function of the list\u001b[0m\u001b[1;33m\u001b[0m\u001b[1;33m\u001b[0m\u001b[1;33m\u001b[0m\u001b[0m\n\u001b[1;32m----> 2\u001b[1;33m \u001b[0mprint\u001b[0m\u001b[1;33m(\u001b[0m\u001b[0mmin\u001b[0m\u001b[1;33m(\u001b[0m\u001b[0mlst1\u001b[0m\u001b[1;33m)\u001b[0m\u001b[1;33m)\u001b[0m\u001b[1;31m#smallest in the list\u001b[0m\u001b[1;33m\u001b[0m\u001b[1;33m\u001b[0m\u001b[0m\n\u001b[0m\u001b[0;32m      3\u001b[0m \u001b[0mprint\u001b[0m\u001b[1;33m(\u001b[0m\u001b[0mmax\u001b[0m\u001b[1;33m(\u001b[0m\u001b[0mlst1\u001b[0m\u001b[1;33m)\u001b[0m\u001b[1;33m)\u001b[0m\u001b[1;31m#largest in the list\u001b[0m\u001b[1;33m\u001b[0m\u001b[1;33m\u001b[0m\u001b[0m\n\u001b[0;32m      4\u001b[0m \u001b[0mprint\u001b[0m\u001b[1;33m(\u001b[0m\u001b[0msum\u001b[0m\u001b[1;33m(\u001b[0m\u001b[0mlst1\u001b[0m\u001b[1;33m)\u001b[0m\u001b[1;33m)\u001b[0m\u001b[1;31m#sum of the all elements in the list\u001b[0m\u001b[1;33m\u001b[0m\u001b[1;33m\u001b[0m\u001b[0m\n\u001b[0;32m      5\u001b[0m \u001b[0mprint\u001b[0m\u001b[1;33m(\u001b[0m\u001b[0msum\u001b[0m\u001b[1;33m(\u001b[0m\u001b[0mlst1\u001b[0m\u001b[1;33m)\u001b[0m\u001b[1;33m/\u001b[0m\u001b[0mlen\u001b[0m\u001b[1;33m(\u001b[0m\u001b[0mlst1\u001b[0m\u001b[1;33m)\u001b[0m\u001b[1;33m)\u001b[0m\u001b[1;31m#Average of the list\u001b[0m\u001b[1;33m\u001b[0m\u001b[1;33m\u001b[0m\u001b[0m\n",
      "\u001b[1;31mNameError\u001b[0m: name 'lst1' is not defined"
     ]
    }
   ],
   "source": [
    "#function of the list\n",
    "print(min(lst1))#smallest in the list\n",
    "print(max(lst1))#largest in the list\n",
    "print(sum(lst1))#sum of the all elements in the list\n",
    "print(sum(lst1)/len(lst1))#Average of the list\n",
    "print(sum(lst1[1::2])/len(lst1[1::2]))# Average of allalternative elements\n",
    "print(lst1[0::2])#printing alternate numbers in the list"
   ]
  },
  {
   "cell_type": "code",
   "execution_count": null,
   "metadata": {},
   "outputs": [],
   "source": [
    "lst1\n",
    "lst1.append(24) # Adding a new element at the end of the list\n",
    "lst1\n",
    "lst1.insert(2,56) # Adding an element at perticular index\n",
    "lst1\n",
    "lst1.count(18) # return the value how many times the object is repeated\n",
    "lst1.index(56) \n",
    "lst1.sort() # it sorts the list in accending order\n",
    "lst1\n",
    "lst1.pop()# removes the last element of the list\n",
    "lst1\n",
    "lst.pop(1)# Removes the last element from a particular index\n",
    "lst2=[123,23,45]\n",
    "lst1.extend(lst2)#merge list1 in list 2\n",
    "lst1"
   ]
  },
  {
   "cell_type": "code",
   "execution_count": 2,
   "metadata": {},
   "outputs": [
    {
     "name": "stdout",
     "output_type": "stream",
     "text": [
      "[3, 2, 9]\n"
     ]
    }
   ],
   "source": [
    "li=[1,9,8,2,6,3]\n",
    "print(li[-1:0:-2])\n"
   ]
  },
  {
   "cell_type": "markdown",
   "metadata": {},
   "source": [
    "### Searching Algorithm\n",
    "- Linear search Algorithm can be applied on dublicate list and unique list\n",
    "    - Unique List: The all items of the list is appeared only once\n",
    "    - Duplicate list: The item of the list can appear more than once\n",
    "- Linear search Algorithm can be applied on the sorted list or unsorted list\n"
   ]
  },
  {
   "cell_type": "code",
   "execution_count": 5,
   "metadata": {},
   "outputs": [
    {
     "data": {
      "text/plain": [
       "1"
      ]
     },
     "execution_count": 5,
     "metadata": {},
     "output_type": "execute_result"
    }
   ],
   "source": [
    "# Fun tosearchthe data in the list\n",
    "# Search is found the return the index if not return\n",
    "\n",
    "def linearsearch(li,tarItem):\n",
    "    for x in range(len(li)):\n",
    "        if li[x]==tarItem:\n",
    "            return x\n",
    "    return -1\n",
    "li=[12,576,45,34,65,78,90]\n",
    "linearsearch(li,576)"
   ]
  },
  {
   "cell_type": "code",
   "execution_count": 8,
   "metadata": {},
   "outputs": [
    {
     "name": "stdout",
     "output_type": "stream",
     "text": [
      "1 4 8 "
     ]
    }
   ],
   "source": [
    "# Function \n",
    "#input: [1,5,9,6,5,15,1,2,3]\n",
    "#output 1,4,8\n",
    "def linearsearch(li,taritem):\n",
    "    for x  in range(len(li)):\n",
    "        if li[x]==taritem:\n",
    "            print(x,end=\" \")\n",
    "    return\n",
    "li=[1,5,9,6,5,15,1,2,5]\n",
    "linearsearch(li,5)"
   ]
  },
  {
   "cell_type": "code",
   "execution_count": 18,
   "metadata": {},
   "outputs": [
    {
     "name": "stdout",
     "output_type": "stream",
     "text": [
      "! !!!!!!! "
     ]
    }
   ],
   "source": [
    "#Function \n",
    "#Input : List\n",
    "#Output: Seq of characters\n",
    "#Test case\n",
    "#[1,5,9,6,5,15,1,2,5],tar=5 -- !! !!!!! !!!!!!!!!\n",
    "def sequence(li,taritem):\n",
    "    for x in range(len(li)):\n",
    "        if li[x]==taritem:\n",
    "            for i in range(x+1):\n",
    "                print(\"!\",end=\"\")\n",
    "            print(end=\" \")\n",
    "    return\n",
    "li=[1,5,9,6,5,15,1,2,5]\n",
    "sequence(li,1)"
   ]
  },
  {
   "cell_type": "code",
   "execution_count": 20,
   "metadata": {},
   "outputs": [
    {
     "data": {
      "text/plain": [
       "60"
      ]
     },
     "execution_count": 20,
     "metadata": {},
     "output_type": "execute_result"
    }
   ],
   "source": [
    "# function\n",
    "# input: list\n",
    "# Output: Formatted\n",
    "# Test Case1\n",
    "# [12,2,45,9,18,15,36] --60\n",
    "# A list item which is perfectly multiple of 3 and 5\n",
    "def summultiple(li):\n",
    "    sum=0\n",
    "    for x in range(len(li)):\n",
    "        if li[x]%3==0 and li[x]%5==0:\n",
    "            sum=sum+li[x]\n",
    "    return sum\n",
    "li=[12,2,45,9,18,15,36]\n",
    "summultiple(li)"
   ]
  },
  {
   "cell_type": "code",
   "execution_count": 12,
   "metadata": {},
   "outputs": [
    {
     "name": "stdout",
     "output_type": "stream",
     "text": [
      "1 9 19 22 "
     ]
    }
   ],
   "source": [
    "# Function \n",
    "# input :List\n",
    "# output :Formattedd output\n",
    "# Test cases:\n",
    "# [1,6,9,4,16,19,22] -- 1 9 19 22\n",
    "# 1.first and last elements print as it is\n",
    "# 2.Bost sides numbers are even the print it\n",
    "def printodd(li):\n",
    "    for x in range(len(li)):\n",
    "        if x==0 or x==(len(li)-1):\n",
    "            print(li[x],end=\" \")\n",
    "        elif li[x-1]%2==0 and li[x+1]%2==0:\n",
    "            print(li[x],end=\" \")\n",
    "    return \n",
    "li=[1,6,9,4,16,19,22]\n",
    "printodd(li)"
   ]
  },
  {
   "cell_type": "markdown",
   "metadata": {},
   "source": [
    "### Number to List \n",
    "- Input as NUmber\n",
    "- Expected output will be list\n"
   ]
  },
  {
   "cell_type": "code",
   "execution_count": 24,
   "metadata": {},
   "outputs": [
    {
     "data": {
      "text/plain": [
       "[1, 4, 5, 6, 9]"
      ]
     },
     "execution_count": 24,
     "metadata": {},
     "output_type": "execute_result"
    }
   ],
   "source": [
    "# Function for conversion - Number to list\n",
    "# Input -- Number\n",
    "# Output -- List\n",
    "# test Cases:-\n",
    "# 14569 -- [1,4,5,6,9]\n",
    "# 1990 -- [1,9,9,0]\n",
    "def numbertolist(n):\n",
    "    li=[]\n",
    "    while n!=0:\n",
    "        r=n%10\n",
    "        li.append(r)\n",
    "        n=n // 10\n",
    "    li.reverse()\n",
    "    return li\n",
    "numbertolist(14569)"
   ]
  },
  {
   "cell_type": "code",
   "execution_count": 31,
   "metadata": {},
   "outputs": [
    {
     "data": {
      "text/plain": [
       "2"
      ]
     },
     "execution_count": 31,
     "metadata": {},
     "output_type": "execute_result"
    }
   ],
   "source": [
    "# Function to count the Occurance of a character in string\n",
    "# \"Python Programming\", P -> 2\n",
    "# \"Python Programming\", m -> 2\n",
    "def countcharoccurances1(s,c):\n",
    "    return s.count(c)\n",
    "countcharoccurances1(\"Python Programming\",'m')"
   ]
  },
  {
   "cell_type": "markdown",
   "metadata": {},
   "source": [
    "### String to List Conversion\n",
    "- Input will be String\n",
    "- Output will be List"
   ]
  },
  {
   "cell_type": "code",
   "execution_count": 37,
   "metadata": {},
   "outputs": [
    {
     "data": {
      "text/plain": [
       "[1, 2, 3, 4, 5, 6]"
      ]
     },
     "execution_count": 37,
     "metadata": {},
     "output_type": "execute_result"
    }
   ],
   "source": [
    "# Function to convert the string to list\n",
    "# Test Cases\n",
    "# \"1 2 3 4 5 6\" -- {1,2,3,4,5,6}\n",
    "def strintToListConversion(s):\n",
    "    li = s.split()\n",
    "    numberlist=[]\n",
    "    for i in li:\n",
    "        numberlist.append(int(i))\n",
    "    return numberlist\n",
    "s=\"1 2 3 4 5 6\"\n",
    "strintToListConversion(s) # {1,2,3,4,5,6}"
   ]
  },
  {
   "cell_type": "markdown",
   "metadata": {},
   "source": [
    "### Sorting Algoritms: \n",
    "- All the sorting algorithms makes the list into accending order\n",
    "    - Bubble Sort\n",
    "    - Selection Sort\n",
    "    - Insertion Sort\n",
    "    "
   ]
  },
  {
   "cell_type": "markdown",
   "metadata": {},
   "source": [
    "### Bubble Sort:-\n",
    "   - This algorithm compares the adjacent elements, if the first element is greater then the second algorithm then its required to swap the elements"
   ]
  },
  {
   "cell_type": "code",
   "execution_count": 42,
   "metadata": {},
   "outputs": [
    {
     "data": {
      "text/plain": [
       "[0, 0, 1, 6, 8]"
      ]
     },
     "execution_count": 42,
     "metadata": {},
     "output_type": "execute_result"
    }
   ],
   "source": [
    "# Function to sort the element using bubble sort\n",
    "def bubblesort(li):\n",
    "    for i in range(len(li)-1):\n",
    "        for j in range(len(li)-1): \n",
    "            if li[j]>li[j+1]:\n",
    "                li[j],li[j+1]=li[j+1],li[j]\n",
    "                \n",
    "    return li\n",
    "li=[1,0,0,8,6]\n",
    "bubblesort(li)"
   ]
  },
  {
   "cell_type": "code",
   "execution_count": 43,
   "metadata": {},
   "outputs": [
    {
     "name": "stdout",
     "output_type": "stream",
     "text": [
      "['Hyderabad', 'Hyderabad', 'Hyderabad', 'Hyderabad', 'Hyderabad']\n"
     ]
    }
   ],
   "source": [
    "li=[\"Hyderabad\"]\n",
    "print(li*5)"
   ]
  },
  {
   "cell_type": "code",
   "execution_count": 51,
   "metadata": {},
   "outputs": [
    {
     "name": "stdout",
     "output_type": "stream",
     "text": [
      "14569"
     ]
    },
    {
     "data": {
      "text/plain": [
       "0"
      ]
     },
     "execution_count": 51,
     "metadata": {},
     "output_type": "execute_result"
    }
   ],
   "source": [
    "# Function to convert list to string\n",
    "def assignment(li):\n",
    "    sum=0\n",
    "    for i in range(len(li)):\n",
    "        print(li[i],end=\"\")\n",
    "    return sum\n",
    "li=[1,4,5,6,9]\n",
    "assignment(li)"
   ]
  },
  {
   "cell_type": "code",
   "execution_count": 54,
   "metadata": {},
   "outputs": [
    {
     "name": "stdout",
     "output_type": "stream",
     "text": [
      "46"
     ]
    }
   ],
   "source": [
    "#Function to consider only even numbers from the list\n",
    "def assignment1(li):\n",
    "    for i in range(len(li)):\n",
    "        if li[i]%2==0:\n",
    "            print(li[i],end=\"\")\n",
    "    return \n",
    "li=[1,4,5,6,9]\n",
    "assignment1(li)"
   ]
  },
  {
   "cell_type": "code",
   "execution_count": 58,
   "metadata": {},
   "outputs": [
    {
     "data": {
      "text/plain": [
       "[1, 4, 3, 16, 5]"
      ]
     },
     "execution_count": 58,
     "metadata": {},
     "output_type": "execute_result"
    }
   ],
   "source": [
    "#Function to consider only the even numbers and the square of it\n",
    "import math\n",
    "def assignment2(li):\n",
    "    for i in range(len(li)):\n",
    "        if li[i]%2 ==0:\n",
    "            li[i]=li[i]*li[i]\n",
    "    return li\n",
    "li=[1,2,3,4,5]\n",
    "assignment2(li)"
   ]
  },
  {
   "cell_type": "code",
   "execution_count": 68,
   "metadata": {},
   "outputs": [
    {
     "data": {
      "text/plain": [
       "[15, 34, 31, 28, 4]"
      ]
     },
     "execution_count": 68,
     "metadata": {},
     "output_type": "execute_result"
    }
   ],
   "source": [
    "#Function to add previous numbers to the current numbers\n",
    "def assignment3(li):\n",
    "    lst=[]\n",
    "    for i in range(len(li)):\n",
    "        if i==0 or i==len(li)-1:\n",
    "            lst.append(li[i])\n",
    "        else:\n",
    "            lst.append(li[i]+li[i-1])\n",
    "    return lst\n",
    "li=[15,19,12,16,4]\n",
    "assignment3(li)"
   ]
  },
  {
   "cell_type": "code",
   "execution_count": null,
   "metadata": {},
   "outputs": [],
   "source": []
  },
  {
   "cell_type": "code",
   "execution_count": null,
   "metadata": {},
   "outputs": [],
   "source": []
  }
 ],
 "metadata": {
  "kernelspec": {
   "display_name": "Python 3",
   "language": "python",
   "name": "python3"
  },
  "language_info": {
   "codemirror_mode": {
    "name": "ipython",
    "version": 3
   },
   "file_extension": ".py",
   "mimetype": "text/x-python",
   "name": "python",
   "nbconvert_exporter": "python",
   "pygments_lexer": "ipython3",
   "version": "3.7.3"
  }
 },
 "nbformat": 4,
 "nbformat_minor": 2
}
