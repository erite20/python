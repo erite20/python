{
 "cells": [
  {
   "cell_type": "code",
   "execution_count": 1,
   "metadata": {},
   "outputs": [
    {
     "name": "stdout",
     "output_type": "stream",
     "text": [
      "Enter a number : 12\n",
      "1 2 3 4 6 12 "
     ]
    }
   ],
   "source": [
    "# Find the factors of a given number \n",
    "# 12 -- > 1 2 3 4 6 12\n",
    "def factorsList(n) :\n",
    "    for i in range (1, n+1):\n",
    "        if n%i == 0:\n",
    "            print(i,end = \" \")\n",
    "    return \n",
    "\n",
    "def main() :\n",
    "    n = int(input(\"Enter a number : \"))\n",
    "    factorsList(n)\n",
    "\n",
    "if __name__ == \"__main__\" :\n",
    "    main()"
   ]
  },
  {
   "cell_type": "code",
   "execution_count": 2,
   "metadata": {},
   "outputs": [
    {
     "name": "stdout",
     "output_type": "stream",
     "text": [
      "Enter a number : 101\n",
      "Is a Prime Number\n"
     ]
    }
   ],
   "source": [
    "# Given number is Prime number or not \n",
    "def isPrime(n) :\n",
    "    flag = True \n",
    "    for i in range (2,n+1):\n",
    "        if i % n == 0 :\n",
    "            flag = False\n",
    "    return flag\n",
    "\n",
    "def main() :\n",
    "    n = int(input(\"Enter a number : \"))\n",
    "    if(isPrime(n)):\n",
    "        print(\"Not a Prime Number\")\n",
    "    else :\n",
    "        print(\"Is a Prime Number\")\n",
    "\n",
    "if __name__ == \"__main__\":\n",
    "    main()\n",
    "            "
   ]
  },
  {
   "cell_type": "code",
   "execution_count": 3,
   "metadata": {},
   "outputs": [
    {
     "name": "stdout",
     "output_type": "stream",
     "text": [
      "Enter a number : 10\n",
      "Count of Prime number is :  4\n"
     ]
    }
   ],
   "source": [
    "# Function to find Prime Numbers count from 1 to N \n",
    "# 10 -- > 4 (2,3,5,7)\n",
    "def PrimeCount (n) : \n",
    "    cnt = 0\n",
    "    for a in range(2,n+1):\n",
    "        k = 0\n",
    "        for i in range(2,a//2+1):\n",
    "            if a % i == 0:\n",
    "                k = k + 1\n",
    "        if (k<=0):\n",
    "            cnt = cnt + 1\n",
    "    return cnt\n",
    "\n",
    "def main() :\n",
    "    n = int(input(\"Enter a number : \"))\n",
    "    print(\"Count of Prime number is : \",PrimeCount(n))\n",
    "\n",
    "if __name__ == \"__main__\":\n",
    "    main()\n",
    "                "
   ]
  },
  {
   "cell_type": "code",
   "execution_count": 4,
   "metadata": {},
   "outputs": [
    {
     "name": "stdout",
     "output_type": "stream",
     "text": [
      "Ente a number : 145\n",
      "Yes\n"
     ]
    }
   ],
   "source": [
    "# 145 -- 5 4 1\n",
    "            #5! + 4! + 1! = 120 + 24 + 1 -- 145 Yes\n",
    "# 123 -- 3 2 1\n",
    "            #3! + 2! + 1! = 6 + 2 + 1 -- 9 No\n",
    "def FactSum(n):\n",
    "    temp = n\n",
    "    sum = 0\n",
    "    while n > 0:\n",
    "        fact = 1\n",
    "        r = n % 10\n",
    "        for i in range(2,r+1):\n",
    "            fact *= i\n",
    "        sum += fact\n",
    "        n //= 10\n",
    "    if temp == sum:\n",
    "        return 'Yes'\n",
    "    else : \n",
    "        return 'No'\n",
    "\n",
    "def main():\n",
    "    n = int(input(\"Ente a number : \"))\n",
    "    print(FactSum(n))\n",
    "\n",
    "if __name__ == \"__main__\" :\n",
    "    main()"
   ]
  },
  {
   "cell_type": "code",
   "execution_count": 8,
   "metadata": {},
   "outputs": [
    {
     "name": "stdout",
     "output_type": "stream",
     "text": [
      "Enter Starting range : 1\n",
      "Enter Ending range   : 10\n",
      "1 2 3 4 5 6 7 8 9 "
     ]
    }
   ],
   "source": [
    "# Function to return the count of Palindrome number two limits\n",
    "# Input : 1 10 \n",
    "# Output : 9 (1,2,3,4,5,6,7,8,9)\n",
    "\n",
    "# Input : 11 100 \n",
    "# Output : 9 (11,22,33,.........,99)\n",
    "\n",
    "def Palindrome(n):\n",
    "    sum = 0\n",
    "    temp = n\n",
    "    while n > 0:\n",
    "        r = n % 10\n",
    "        sum = sum * 10 + r\n",
    "        n //= 10\n",
    "    if sum == temp:\n",
    "        print(sum,end = \" \")\n",
    "    return \n",
    "\n",
    "def main() :\n",
    "    n1 = int(input(\"Enter Starting range : \"))\n",
    "    n2 = int(input(\"Enter Ending range   : \"))\n",
    "    for i in range (n1,n2+1):\n",
    "        Palindrome(i)\n",
    "    return\n",
    "\n",
    "if __name__ == \"__main__\":\n",
    "    main()"
   ]
  },
  {
   "cell_type": "code",
   "execution_count": 17,
   "metadata": {},
   "outputs": [
    {
     "name": "stdout",
     "output_type": "stream",
     "text": [
      "Enter a number : 1\n",
      "Enter end range: 1000\n",
      "6 28 496 "
     ]
    }
   ],
   "source": [
    "# Function to generate the perfect numbers in a given range\n",
    "# Perfect Number : Sum of all its factors same as original number\n",
    "# Example : 6 -- 1 2 3 (1 + 2 + 3)\n",
    "# Input : 1 10\n",
    "# Output : 6\n",
    "def FactorList(n):\n",
    "    sum = 0\n",
    "    for i in range (1,n//2+1):\n",
    "        if n % i == 0:\n",
    "            sum = sum + i\n",
    "    return sum\n",
    "\n",
    "def main() :\n",
    "    n1 = int(input(\"Enter a number : \"))\n",
    "    n2 = int(input(\"Enter end range: \"))\n",
    "    for i in range (n1,n2+1):\n",
    "        if (i == FactorList(i)):\n",
    "            print(i,end = \" \")\n",
    "    return \n",
    "\n",
    "if __name__ == \"__main__\":\n",
    "    main()"
   ]
  },
  {
   "cell_type": "markdown",
   "metadata": {},
   "source": [
    "### Programming in Python (strings)\n",
    "- Strings\n",
    "- Strings Slicing\n",
    "- Fundamental Programmign with String in Python"
   ]
  },
  {
   "cell_type": "code",
   "execution_count": 18,
   "metadata": {},
   "outputs": [
    {
     "name": "stdout",
     "output_type": "stream",
     "text": [
      "Python\n",
      "<class 'str'>\n"
     ]
    }
   ],
   "source": [
    "s1 = \"Python\"\n",
    "print(s1)\n",
    "print(type(s1))"
   ]
  },
  {
   "cell_type": "code",
   "execution_count": 28,
   "metadata": {},
   "outputs": [
    {
     "name": "stdout",
     "output_type": "stream",
     "text": [
      "P\n",
      "y\n",
      "n\n",
      "n\n",
      "6\n"
     ]
    }
   ],
   "source": [
    "s1 = \"Python\"\n",
    "print(s1[0]) # Access the first character\n",
    "print(s1[1]) # Access the second character\n",
    "print(s1[5]) # Last character\n",
    "print(s1[len(s1)-1]) # Access the last character\n",
    "print(len(s1)) # Print the length of the string"
   ]
  },
  {
   "cell_type": "code",
   "execution_count": 35,
   "metadata": {},
   "outputs": [
    {
     "name": "stdout",
     "output_type": "stream",
     "text": [
      "n\n",
      "o\n",
      "Py\n",
      "Py\n",
      "hon\n",
      "thon\n"
     ]
    }
   ],
   "source": [
    "print(s1[-1]) # Another way to access the last character\n",
    "print(s1[-2]) # Another way to access the last second character\n",
    "print(s1[0:2]) # Access the first two characters (SLICING)\n",
    "print(s1[:2]) # Access the first two characters\n",
    "print(s1[-3:]) # Last three characters\n",
    "print(s1[2:]) # From second character to last"
   ]
  },
  {
   "cell_type": "code",
   "execution_count": 39,
   "metadata": {},
   "outputs": [
    {
     "name": "stdout",
     "output_type": "stream",
     "text": [
      "ytho\n",
      "h\n",
      "nohtyP\n",
      "no\n",
      "Pto\n",
      "Ph\n"
     ]
    }
   ],
   "source": [
    "print(s1[1:-1]) # Printing all characters except first and last\n",
    "print(s1[len(s1)//2]) # Print the middle character of the string\n",
    "print(s1[-1::-1]) # Reverse of the string\n",
    "print(s1[-1:-3:-1]) # Access the last two characters in reverse order\n",
    "# Access the alternate characters\n",
    "print(s1[::2]) # Two characters\n",
    "print(s1[::3]) # Three characters"
   ]
  },
  {
   "cell_type": "code",
   "execution_count": 41,
   "metadata": {},
   "outputs": [
    {
     "data": {
      "text/plain": [
       "'gnimmargorP'"
      ]
     },
     "execution_count": 41,
     "metadata": {},
     "output_type": "execute_result"
    }
   ],
   "source": [
    "def reverseString (str):\n",
    "    return str[-1::-1]          # :: --> INDICATES THE SLICING OPTION\n",
    "reverseString(\"Programming\")"
   ]
  },
  {
   "cell_type": "code",
   "execution_count": 43,
   "metadata": {},
   "outputs": [
    {
     "name": "stdout",
     "output_type": "stream",
     "text": [
      "False\n",
      "True\n"
     ]
    }
   ],
   "source": [
    "def isPalindrome(str):\n",
    "    if str == str[::-1]:\n",
    "        return True\n",
    "    else :\n",
    "        return False\n",
    "print(isPalindrome(\"Python\"))\n",
    "print(isPalindrome(\"ganag\"))"
   ]
  },
  {
   "cell_type": "code",
   "execution_count": 1,
   "metadata": {},
   "outputs": [
    {
     "data": {
      "text/plain": [
       "65"
      ]
     },
     "execution_count": 1,
     "metadata": {},
     "output_type": "execute_result"
    }
   ],
   "source": [
    "ord('A')"
   ]
  },
  {
   "cell_type": "code",
   "execution_count": 3,
   "metadata": {},
   "outputs": [
    {
     "name": "stdout",
     "output_type": "stream",
     "text": [
      "P "
     ]
    }
   ],
   "source": [
    "# A - Z : 65 - 90\n",
    "# a - z : 97 - 122\n",
    "# 0 - 9 : 48 - 57\n",
    "# Space : 32\n",
    "def printUpper(x) :\n",
    "    for i in range (len(x)):\n",
    "        if ord(x[i]) >= 65 and ord(x[i]) <= 90 :\n",
    "            print(x[i],end = \" \")\n",
    "    return \n",
    "printUpper(\"Python\")"
   ]
  },
  {
   "cell_type": "code",
   "execution_count": 6,
   "metadata": {},
   "outputs": [
    {
     "data": {
      "text/plain": [
       "'SameCount'"
      ]
     },
     "execution_count": 6,
     "metadata": {},
     "output_type": "execute_result"
    }
   ],
   "source": [
    "# Function to print \"Python\" if the count of Upper and lower is same\n",
    "# Print \"Programming\" if not same\n",
    "# Example : PyThOn -- 3 P T O (Upper case) -- Python\n",
    "#                     3 y h n (Lower case)\n",
    "# PytHon -- P H (2)\n",
    "        #--  y t o n (4) -- Programming\n",
    "def findCount(str) :\n",
    "    cntUpper = 0\n",
    "    cntLower = 0\n",
    "    for x in range (len(str)):\n",
    "        if ord(str[x]) >= 65 and ord(str[x]) <= 90:\n",
    "            cntUpper = cntUpper + 1\n",
    "        elif ord(str[x]) >= 97 and ord(str[x]) <= 122:\n",
    "            cntLower = cntLower + 1\n",
    "    if cntUpper == cntLower:\n",
    "        return \"SameCount\"\n",
    "    else:\n",
    "        return \"Programming\"\n",
    "findCount(\"PyThOn\")"
   ]
  },
  {
   "cell_type": "code",
   "execution_count": 20,
   "metadata": {},
   "outputs": [
    {
     "name": "stdout",
     "output_type": "stream",
     "text": [
      "1 8 8 9 "
     ]
    }
   ],
   "source": [
    "# Extract digits from given string \n",
    "# Example : \n",
    "# Input : Appli1cat8ion89\n",
    "# Output : 1 8 8 9 \n",
    "def Numbers(n):\n",
    "    for i in range (len(n)) :\n",
    "        if ord(n[i]) >= 48 and ord(n[i]) <= 57 :\n",
    "            print(n[i],end = \" \")\n",
    "Numbers(\"Appli1cat8ion89\")"
   ]
  },
  {
   "cell_type": "code",
   "execution_count": 18,
   "metadata": {},
   "outputs": [
    {
     "data": {
      "text/plain": [
       "26"
      ]
     },
     "execution_count": 18,
     "metadata": {},
     "output_type": "execute_result"
    }
   ],
   "source": [
    "# Function to return the sum of digits in a given string\n",
    "# Example : \n",
    "# Input : Applicat1ion89\n",
    "# Output : 26 (1 + 8 +9)\n",
    "def sumNumbers(n):\n",
    "    sum = 0\n",
    "    for i in range(len(n)):\n",
    "        if ord(n[i]) >= 48 and ord(n[i]) <= 57 :\n",
    "            sum += int(n[i])\n",
    "    return sum\n",
    "\n",
    "sumNumbers(\"Appli1cat8ion89\")"
   ]
  },
  {
   "cell_type": "code",
   "execution_count": 19,
   "metadata": {},
   "outputs": [
    {
     "data": {
      "text/plain": [
       "16"
      ]
     },
     "execution_count": 19,
     "metadata": {},
     "output_type": "execute_result"
    }
   ],
   "source": [
    "# Function to return the even sum of digits in a given string\n",
    "# Example : \n",
    "# Input : Appli1cat8ion89\n",
    "# Output : 16 (8 + 8)\n",
    "def sumevenNumbers(n):\n",
    "    sum = 0\n",
    "    for i in range(len(n)):\n",
    "        if ord(n[i]) >= 48 and ord(n[i]) <= 57 :\n",
    "            if int(n[i]) %2 == 0:\n",
    "                sum += int(n[i])\n",
    "    return sum\n",
    "\n",
    "sumevenNumbers(\"Appli1cat8ion89\")"
   ]
  },
  {
   "cell_type": "code",
   "execution_count": 35,
   "metadata": {},
   "outputs": [
    {
     "name": "stdout",
     "output_type": "stream",
     "text": [
      "PYTHON"
     ]
    }
   ],
   "source": [
    "### Function to print the specific word in Uppercase\n",
    "# Example : \n",
    "# Input : Python Made Easy\n",
    "# output : MADE\n",
    "# Input : Learn Python Programming\n",
    "# Output : PYTHON\n",
    "def wordUpperCase(s):\n",
    "    spaceCnt = 0\n",
    "    for x in range(len(s)):\n",
    "        if ord(s[x]) == 32:\n",
    "            spaceCnt += 1 \n",
    "        if spaceCnt == 1 : \n",
    "            if ord(s[x]) >= 65 and ord(s[x]) <= 90 :\n",
    "                print(s[x],end = \"\")\n",
    "            elif ord(s[x]) >= 97 and ord(s[x]) <= 122 : \n",
    "                print(chr(ord(s[x])-32),end = \"\")\n",
    "        if spaceCnt == 2:\n",
    "            break\n",
    "    return\n",
    "wordUpperCase(\"Learn Python Programming\")"
   ]
  },
  {
   "cell_type": "raw",
   "metadata": {},
   "source": []
  }
 ],
 "metadata": {
  "kernelspec": {
   "display_name": "Python 3",
   "language": "python",
   "name": "python3"
  },
  "language_info": {
   "codemirror_mode": {
    "name": "ipython",
    "version": 3
   },
   "file_extension": ".py",
   "mimetype": "text/x-python",
   "name": "python",
   "nbconvert_exporter": "python",
   "pygments_lexer": "ipython3",
   "version": "3.7.1"
  }
 },
 "nbformat": 4,
 "nbformat_minor": 2
}
