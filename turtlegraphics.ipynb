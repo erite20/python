{
  "nbformat": 4,
  "nbformat_minor": 0,
  "metadata": {
    "colab": {
      "name": "turtlegraphics.ipynb",
      "version": "0.3.2",
      "provenance": [],
      "include_colab_link": true
    },
    "kernelspec": {
      "name": "python3",
      "display_name": "Python 3"
    }
  },
  "cells": [
    {
      "cell_type": "markdown",
      "metadata": {
        "id": "view-in-github",
        "colab_type": "text"
      },
      "source": [
        "<a href=\"https://colab.research.google.com/github/ShivaKumar8037/Gitam-Python/blob/master/turtlegraphics.ipynb\" target=\"_parent\"><img src=\"https://colab.research.google.com/assets/colab-badge.svg\" alt=\"Open In Colab\"/></a>"
      ]
    },
    {
      "cell_type": "markdown",
      "metadata": {
        "id": "Xk0xlds0h9dK",
        "colab_type": "text"
      },
      "source": [
        "###1. Draw a circle, In that half circle has to have Green color and another half required to fill with orange color using Turtle Package."
      ]
    },
    {
      "cell_type": "code",
      "metadata": {
        "id": "UxGHehLTh_kC",
        "colab_type": "code",
        "colab": {}
      },
      "source": [
        "from turtle import *\n",
        "fillcolor('green')\n",
        "begin_fill()\n",
        "left(90)\n",
        "for x in range(180):\n",
        "    forward(1)\n",
        "    right(1)\n",
        "right(90)\n",
        "forward(115)\n",
        "end_fill()\n",
        "\n",
        "fillcolor('orange')\n",
        "begin_fill()\n",
        "left(90)\n",
        "for x in range(180):\n",
        "    forward(1)\n",
        "    left(1)\n",
        "end_fill()\n"
      ],
      "execution_count": 0,
      "outputs": []
    },
    {
      "cell_type": "markdown",
      "metadata": {
        "id": "ReeQpYEDhvHD",
        "colab_type": "text"
      },
      "source": [
        "###2. Draw a Spirling Square with Pen color as 'Red'."
      ]
    },
    {
      "cell_type": "code",
      "metadata": {
        "id": "HRbti0rqhl9b",
        "colab_type": "code",
        "colab": {}
      },
      "source": [
        "# Turtle Graphics Q-1\n",
        "\n",
        "import turtle as b\n",
        "b1 = b.Turtle()\n",
        "b1.pencolor('red') \n",
        "for x in range(250):\n",
        "        b1.forward(x)\n",
        "        b1.left(91)\n",
        "b.done()"
      ],
      "execution_count": 0,
      "outputs": []
    },
    {
      "cell_type": "markdown",
      "metadata": {
        "id": "nz5NxRhoh5__",
        "colab_type": "text"
      },
      "source": [
        ""
      ]
    }
  ]
}